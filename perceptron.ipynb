{
 "cells": [
  {
   "cell_type": "code",
   "execution_count": 8,
   "metadata": {},
   "outputs": [],
   "source": [
    "import numpy as np\n",
    "import matplotlib.pyplot as plt\n",
    "from sklearn.decomposition import PCA\n"
   ]
  },
  {
   "cell_type": "code",
   "execution_count": 9,
   "metadata": {},
   "outputs": [],
   "source": [
    "class Perceptron:\n",
    "    def __init__(self, num_inputs, learning_rate=0.1, epochs=1000):\n",
    "        self.num_inputs = num_inputs\n",
    "        self.learning_rate = learning_rate\n",
    "        self.epochs = epochs\n",
    "        self.weights = np.zeros(num_inputs + 1)\n",
    "\n",
    "    def activation(self, x):\n",
    "        return 1 if (x >= 0) else 0\n",
    "\n",
    "    def predict(self, inputs):\n",
    "        summation = np.dot(inputs, self.weights[1:]) + self.weights[0]\n",
    "        return self.activation(summation)\n",
    "\n",
    "    def train(self, training_inputs, labels):\n",
    "        epochs_without_change = 0  \n",
    "\n",
    "        for epoch in range(self.epochs):\n",
    "            weights_changed = False \n",
    "            \n",
    "            for inputs, label in zip(training_inputs, labels):\n",
    "                prediction = self.predict(inputs)\n",
    "                error = label - prediction\n",
    "                \n",
    "                if error != 0:\n",
    "\n",
    "                    self.weights[1:] += self.learning_rate * error * inputs\n",
    "                    self.weights[0] += self.learning_rate * error\n",
    "                    weights_changed = True  \n",
    "            \n",
    "            if not weights_changed:\n",
    "                epochs_without_change += 1\n",
    "            else:\n",
    "                epochs_without_change = 0  \n",
    "            \n",
    "            if epochs_without_change >= 10:\n",
    "                print(f\"Training stopped early at epoch {epoch + 1} due to no change in weights for 10 consecutive epochs.\")\n",
    "                break\n"
   ]
  },
  {
   "cell_type": "code",
   "execution_count": 10,
   "metadata": {},
   "outputs": [],
   "source": [
    "            \n",
    "def generate_dataset(num_inputs, logic_gate):\n",
    "    dataset = []\n",
    "    labels = []\n",
    "    for i in range(2 ** num_inputs):\n",
    "        inputs = [int(x) for x in list(format(i, '0' + str(num_inputs) + 'b'))]\n",
    "        if logic_gate == 'AND':\n",
    "            label = int(all(inputs))\n",
    "        elif logic_gate == 'OR':\n",
    "            label = int(any(inputs))\n",
    "        elif logic_gate == 'XOR':\n",
    "            label = int(sum(inputs) % 2 == 1)\n",
    "        dataset.append(inputs)\n",
    "        labels.append(label)\n",
    "    return np.array(dataset), np.array(labels)"
   ]
  },
  {
   "cell_type": "code",
   "execution_count": 11,
   "metadata": {},
   "outputs": [],
   "source": [
    "num_inputs = 4  # For example, you can change this value\n",
    "logic_gate = \"AND\"  # Change to \"AND\" to test AND gate"
   ]
  },
  {
   "cell_type": "code",
   "execution_count": 12,
   "metadata": {},
   "outputs": [],
   "source": [
    "training_inputs, labels = generate_dataset(num_inputs, logic_gate)\n"
   ]
  },
  {
   "cell_type": "code",
   "execution_count": 13,
   "metadata": {},
   "outputs": [
    {
     "name": "stdout",
     "output_type": "stream",
     "text": [
      "Training stopped early at epoch 15 due to no change in weights for 10 consecutive epochs.\n"
     ]
    }
   ],
   "source": [
    "perceptron = Perceptron(num_inputs=num_inputs)\n",
    "perceptron.train(training_inputs, labels)"
   ]
  },
  {
   "cell_type": "code",
   "execution_count": 14,
   "metadata": {},
   "outputs": [
    {
     "name": "stdout",
     "output_type": "stream",
     "text": [
      "Input: [0 0 0 0], Predicted: 0, Actual: 0\n",
      "Input: [0 0 0 1], Predicted: 1, Actual: 1\n",
      "Input: [0 0 1 0], Predicted: 1, Actual: 1\n",
      "Input: [0 0 1 1], Predicted: 1, Actual: 1\n",
      "Input: [0 1 0 0], Predicted: 1, Actual: 1\n",
      "Input: [0 1 0 1], Predicted: 1, Actual: 1\n",
      "Input: [0 1 1 0], Predicted: 1, Actual: 1\n",
      "Input: [0 1 1 1], Predicted: 1, Actual: 1\n",
      "Input: [1 0 0 0], Predicted: 1, Actual: 1\n",
      "Input: [1 0 0 1], Predicted: 1, Actual: 1\n",
      "Input: [1 0 1 0], Predicted: 1, Actual: 1\n",
      "Input: [1 0 1 1], Predicted: 1, Actual: 1\n",
      "Input: [1 1 0 0], Predicted: 1, Actual: 1\n",
      "Input: [1 1 0 1], Predicted: 1, Actual: 1\n",
      "Input: [1 1 1 0], Predicted: 1, Actual: 1\n",
      "Input: [1 1 1 1], Predicted: 1, Actual: 1\n",
      "-0.1\n",
      "0.1\n",
      "0.1\n",
      "0.1\n",
      "0.1\n"
     ]
    }
   ],
   "source": [
    "for inputs, label in zip(training_inputs, labels):\n",
    "    prediction = perceptron.predict(inputs)\n",
    "    print(f\"Input: {inputs}, Predicted: {prediction}, Actual: {label}\")\n",
    "\n",
    "for weights in perceptron.weights:\n",
    "    print(weights)"
   ]
  }
 ],
 "metadata": {
  "kernelspec": {
   "display_name": "Python 3",
   "language": "python",
   "name": "python3"
  },
  "language_info": {
   "codemirror_mode": {
    "name": "ipython",
    "version": 3
   },
   "file_extension": ".py",
   "mimetype": "text/x-python",
   "name": "python",
   "nbconvert_exporter": "python",
   "pygments_lexer": "ipython3",
   "version": "3.10.12"
  }
 },
 "nbformat": 4,
 "nbformat_minor": 2
}
