{
 "cells": [
  {
   "cell_type": "code",
   "execution_count": 301,
   "metadata": {},
   "outputs": [],
   "source": [
    "import numpy as np"
   ]
  },
  {
   "cell_type": "code",
   "execution_count": 302,
   "metadata": {},
   "outputs": [],
   "source": [
    "def sigmoid(x):\n",
    "    return 1 / (1 + np.exp(-x))\n",
    "\n",
    "def sigmoid_derivative(x):\n",
    "    return x * (1 - x)"
   ]
  },
  {
   "cell_type": "code",
   "execution_count": 303,
   "metadata": {},
   "outputs": [],
   "source": [
    "class NeuralNetwork:\n",
    "    def __init__(self, num_inputs, num_hidden, num_outputs):\n",
    "        self.num_inputs = num_inputs\n",
    "        self.num_hidden = num_hidden\n",
    "        self.num_outputs = num_outputs\n",
    "\n",
    "        # Initialize weights with small random numbers\n",
    "        self.weights_input_hidden = np.random.randn(self.num_inputs, self.num_hidden)\n",
    "        self.weights_hidden_output = np.random.randn(self.num_hidden, self.num_outputs)\n",
    "\n",
    "    def feedforward(self, inputs):\n",
    "        self.hidden = sigmoid(np.dot(inputs, self.weights_input_hidden))\n",
    "        self.output = sigmoid(np.dot(self.hidden, self.weights_hidden_output))\n",
    "        return self.output\n",
    "\n",
    "    def backpropagate(self, inputs, actual_output, predicted_output, learning_rate):\n",
    "        output_error = actual_output - predicted_output\n",
    "        output_delta = output_error * sigmoid_derivative(predicted_output)\n",
    "\n",
    "        hidden_error = output_delta.dot(self.weights_hidden_output.T)\n",
    "        hidden_delta = hidden_error * sigmoid_derivative(self.hidden)\n",
    "\n",
    "        self.weights_hidden_output += self.hidden.T.dot(output_delta) * learning_rate\n",
    "        self.weights_input_hidden += inputs.T.dot(hidden_delta) * learning_rate\n",
    "\n",
    "    def train(self, inputs, actual_output, epochs, learning_rate=0.1, patience=10):\n",
    "        no_change_epochs = 0\n",
    "        prev_weights_hidden_output = np.copy(self.weights_hidden_output)\n",
    "        prev_weights_input_hidden = np.copy(self.weights_input_hidden)\n",
    "\n",
    "        for epoch in range(epochs):\n",
    "            predicted_output = self.feedforward(inputs)\n",
    "            self.backpropagate(inputs, actual_output, predicted_output, learning_rate)\n",
    "\n",
    "            # Check for weight changes\n",
    "            if np.array_equal(prev_weights_hidden_output, self.weights_hidden_output) and np.array_equal(prev_weights_input_hidden, self.weights_input_hidden):\n",
    "                no_change_epochs += 1\n",
    "            else:\n",
    "                no_change_epochs = 0\n",
    "            \n",
    "            prev_weights_hidden_output = np.copy(self.weights_hidden_output)\n",
    "            prev_weights_input_hidden = np.copy(self.weights_input_hidden)\n",
    "\n",
    "            if no_change_epochs >= patience:\n",
    "                print(f\"Training stopped early at epoch {epoch} due to no change in weights for {patience} consecutive epochs.\")\n",
    "                break\n",
    "\n",
    "    def predict(self, inputs):\n",
    "        output = self.feedforward(inputs)\n",
    "        return sigmoid(output)"
   ]
  },
  {
   "cell_type": "code",
   "execution_count": 304,
   "metadata": {},
   "outputs": [],
   "source": [
    "def create_dataset(num_inputs, gate):\n",
    "    if gate == 'AND':\n",
    "        inputs = np.array([[int(x) for x in format(i, f'0{num_inputs}b')] for i in range(2**num_inputs)])\n",
    "        labels = np.array([[int(np.all(input_vec))] for input_vec in inputs])\n",
    "    elif gate == 'OR':\n",
    "        inputs = np.array([[int(x) for x in format(i, f'0{num_inputs}b')] for i in range(2**num_inputs)])\n",
    "        labels = np.array([[int(np.any(input_vec))] for input_vec in inputs])\n",
    "    elif gate == 'XOR':\n",
    "        inputs = np.array([[int(x) for x in format(i, f'0{num_inputs}b')] for i in range(2**num_inputs)])\n",
    "        labels = np.array([[int(np.sum(input_vec) % 2)] for input_vec in inputs])\n",
    "    else:\n",
    "        raise ValueError(\"Invalid gate type. Choose 'AND', 'OR', or 'XOR'.\")\n",
    "    return inputs, labels"
   ]
  },
  {
   "cell_type": "code",
   "execution_count": 305,
   "metadata": {},
   "outputs": [],
   "source": [
    "num_inputs = 4\n",
    "gate = 'XOR' "
   ]
  },
  {
   "cell_type": "code",
   "execution_count": 306,
   "metadata": {},
   "outputs": [],
   "source": [
    "inputs, labels = create_dataset(num_inputs, gate)\n",
    "nn = NeuralNetwork(num_inputs=num_inputs, num_hidden=4, num_outputs=1)\n",
    "epochs = 20000\n",
    "nn.train(inputs, labels, epochs, learning_rate=0.1)"
   ]
  },
  {
   "cell_type": "code",
   "execution_count": 307,
   "metadata": {},
   "outputs": [
    {
     "name": "stdout",
     "output_type": "stream",
     "text": [
      "Input: [0 0 0 0], Predicted Output: [0.50848844], Actual Output: [0]\n",
      "Input: [0 0 0 1], Predicted Output: [0.72879718], Actual Output: [1]\n",
      "Input: [0 0 1 0], Predicted Output: [0.72832815], Actual Output: [1]\n",
      "Input: [0 0 1 1], Predicted Output: [0.73073945], Actual Output: [1]\n",
      "Input: [0 1 0 0], Predicted Output: [0.72828473], Actual Output: [1]\n",
      "Input: [0 1 0 1], Predicted Output: [0.73073922], Actual Output: [1]\n",
      "Input: [0 1 1 0], Predicted Output: [0.73062935], Actual Output: [1]\n",
      "Input: [0 1 1 1], Predicted Output: [0.73081155], Actual Output: [1]\n",
      "Input: [1 0 0 0], Predicted Output: [0.72824401], Actual Output: [1]\n",
      "Input: [1 0 0 1], Predicted Output: [0.73073301], Actual Output: [1]\n",
      "Input: [1 0 1 0], Predicted Output: [0.73062173], Actual Output: [1]\n",
      "Input: [1 0 1 1], Predicted Output: [0.73081069], Actual Output: [1]\n",
      "Input: [1 1 0 0], Predicted Output: [0.7305451], Actual Output: [1]\n",
      "Input: [1 1 0 1], Predicted Output: [0.73080573], Actual Output: [1]\n",
      "Input: [1 1 1 0], Predicted Output: [0.73076894], Actual Output: [1]\n",
      "Input: [1 1 1 1], Predicted Output: [0.73082181], Actual Output: [1]\n"
     ]
    }
   ],
   "source": [
    "for i in range(len(inputs)):\n",
    "    predicted_output = nn.predict(inputs[i])\n",
    "    print(f\"Input: {inputs[i]}, Predicted Output: {predicted_output}, Actual Output: {labels[i]}\")"
   ]
  }
 ],
 "metadata": {
  "kernelspec": {
   "display_name": "Python 3",
   "language": "python",
   "name": "python3"
  },
  "language_info": {
   "codemirror_mode": {
    "name": "ipython",
    "version": 3
   },
   "file_extension": ".py",
   "mimetype": "text/x-python",
   "name": "python",
   "nbconvert_exporter": "python",
   "pygments_lexer": "ipython3",
   "version": "3.10.12"
  }
 },
 "nbformat": 4,
 "nbformat_minor": 2
}
